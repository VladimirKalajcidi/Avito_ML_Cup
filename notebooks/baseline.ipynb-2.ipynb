{
 "cells": [
  {
   "cell_type": "code",
   "execution_count": 1,
   "id": "e08fbd03-408d-489b-afec-65b4c61e32cb",
   "metadata": {},
   "outputs": [],
   "source": [
    "import pandas as pd"
   ]
  },
  {
   "cell_type": "code",
   "execution_count": 7,
   "id": "377c88af",
   "metadata": {},
   "outputs": [
    {
     "name": "stdout",
     "output_type": "stream",
     "text": [
      "/Users/vladimirkalajcidi/Avito_ML_Cup\n"
     ]
    }
   ],
   "source": [
    "%cd /Users/vladimirkalajcidi/Avito_ML_Cup"
   ]
  },
  {
   "cell_type": "code",
   "execution_count": 9,
   "id": "04e995bf-df52-400a-88ab-a8f7e23103cf",
   "metadata": {},
   "outputs": [],
   "source": [
    "train = pd.read_parquet(\"data/train.parquet\") \n",
    "test = pd.read_parquet(\"data/test.parquet\")"
   ]
  },
  {
   "cell_type": "code",
   "execution_count": null,
   "id": "99f7e03e",
   "metadata": {},
   "outputs": [
    {
     "data": {
      "text/html": [
       "<div>\n",
       "<style scoped>\n",
       "    .dataframe tbody tr th:only-of-type {\n",
       "        vertical-align: middle;\n",
       "    }\n",
       "\n",
       "    .dataframe tbody tr th {\n",
       "        vertical-align: top;\n",
       "    }\n",
       "\n",
       "    .dataframe thead th {\n",
       "        text-align: right;\n",
       "    }\n",
       "</style>\n",
       "<table border=\"1\" class=\"dataframe\">\n",
       "  <thead>\n",
       "    <tr style=\"text-align: right;\">\n",
       "      <th></th>\n",
       "      <th>user_id</th>\n",
       "      <th>adv_campaign_id</th>\n",
       "      <th>platform_id</th>\n",
       "      <th>adv_creative_id</th>\n",
       "      <th>event_date</th>\n",
       "      <th>banner_code</th>\n",
       "      <th>is_main</th>\n",
       "      <th>target</th>\n",
       "    </tr>\n",
       "  </thead>\n",
       "  <tbody>\n",
       "    <tr>\n",
       "      <th>0</th>\n",
       "      <td>2853707</td>\n",
       "      <td>3352</td>\n",
       "      <td>3</td>\n",
       "      <td>3075</td>\n",
       "      <td>2024-09-17</td>\n",
       "      <td>6</td>\n",
       "      <td>True</td>\n",
       "      <td>0</td>\n",
       "    </tr>\n",
       "    <tr>\n",
       "      <th>1</th>\n",
       "      <td>2537244</td>\n",
       "      <td>4029</td>\n",
       "      <td>2</td>\n",
       "      <td>3260</td>\n",
       "      <td>2024-09-17</td>\n",
       "      <td>8</td>\n",
       "      <td>True</td>\n",
       "      <td>0</td>\n",
       "    </tr>\n",
       "    <tr>\n",
       "      <th>2</th>\n",
       "      <td>63033</td>\n",
       "      <td>1578</td>\n",
       "      <td>3</td>\n",
       "      <td>1109</td>\n",
       "      <td>2024-09-17</td>\n",
       "      <td>6</td>\n",
       "      <td>True</td>\n",
       "      <td>0</td>\n",
       "    </tr>\n",
       "    <tr>\n",
       "      <th>3</th>\n",
       "      <td>164702</td>\n",
       "      <td>3434</td>\n",
       "      <td>1</td>\n",
       "      <td>1079</td>\n",
       "      <td>2024-09-17</td>\n",
       "      <td>7</td>\n",
       "      <td>True</td>\n",
       "      <td>0</td>\n",
       "    </tr>\n",
       "    <tr>\n",
       "      <th>4</th>\n",
       "      <td>2802905</td>\n",
       "      <td>2208</td>\n",
       "      <td>3</td>\n",
       "      <td>3576</td>\n",
       "      <td>2024-09-17</td>\n",
       "      <td>6</td>\n",
       "      <td>True</td>\n",
       "      <td>0</td>\n",
       "    </tr>\n",
       "  </tbody>\n",
       "</table>\n",
       "</div>"
      ],
      "text/plain": [
       "   user_id  adv_campaign_id  platform_id  adv_creative_id  event_date  \\\n",
       "0  2853707             3352            3             3075  2024-09-17   \n",
       "1  2537244             4029            2             3260  2024-09-17   \n",
       "2    63033             1578            3             1109  2024-09-17   \n",
       "3   164702             3434            1             1079  2024-09-17   \n",
       "4  2802905             2208            3             3576  2024-09-17   \n",
       "\n",
       "   banner_code  is_main  target  \n",
       "0            6     True       0  \n",
       "1            8     True       0  \n",
       "2            6     True       0  \n",
       "3            7     True       0  \n",
       "4            6     True       0  "
      ]
     },
     "execution_count": 10,
     "metadata": {},
     "output_type": "execute_result"
    },
    {
     "ename": "",
     "evalue": "",
     "output_type": "error",
     "traceback": [
      "\u001b[1;31mThe Kernel crashed while executing code in the current cell or a previous cell. \n",
      "\u001b[1;31mPlease review the code in the cell(s) to identify a possible cause of the failure. \n",
      "\u001b[1;31mClick <a href='https://aka.ms/vscodeJupyterKernelCrash'>here</a> for more info. \n",
      "\u001b[1;31mView Jupyter <a href='command:jupyter.viewOutput'>log</a> for further details."
     ]
    }
   ],
   "source": [
    "train.head()"
   ]
  },
  {
   "cell_type": "markdown",
   "id": "ce0722e9-e94d-418d-afe9-3fc8c0326903",
   "metadata": {},
   "source": [
    "Бейзлайн - если пользователь уже видел рекламу и кликнул на нее, то он снова сделает клик. Если же реклама была показана, но клик не последовал, то и в следующий раз клик маловероятен."
   ]
  },
  {
   "cell_type": "code",
   "execution_count": 3,
   "id": "5c32792f-5432-437d-a009-43c659b8b224",
   "metadata": {},
   "outputs": [],
   "source": [
    "user_ads_clicks = train.groupby([\"user_id\", \"adv_campaign_id\"], as_index=False)[\"target\"].max()"
   ]
  },
  {
   "cell_type": "code",
   "execution_count": 4,
   "id": "b3f5cf2f-fc55-40c9-ab39-0d5c24f1adab",
   "metadata": {},
   "outputs": [],
   "source": [
    "test = test.merge(user_ads_clicks, on=[\"user_id\", \"adv_campaign_id\"], how=\"left\")"
   ]
  },
  {
   "cell_type": "code",
   "execution_count": 5,
   "id": "db6f1798-9553-4416-b678-df43404d560f",
   "metadata": {},
   "outputs": [],
   "source": [
    "test[\"predict\"] = test[\"target\"].fillna(0.5)"
   ]
  },
  {
   "cell_type": "code",
   "execution_count": 6,
   "id": "7a9ad2f8-b3a6-4532-ad2a-567ea3850a41",
   "metadata": {},
   "outputs": [],
   "source": [
    "test[[\"user_id\", \"adv_campaign_id\", \"predict\"]].to_csv(\"sample_submission.csv\", index=False)"
   ]
  }
 ],
 "metadata": {
  "kernelspec": {
   "display_name": "avito_ml",
   "language": "python",
   "name": "python3"
  },
  "language_info": {
   "codemirror_mode": {
    "name": "ipython",
    "version": 3
   },
   "file_extension": ".py",
   "mimetype": "text/x-python",
   "name": "python",
   "nbconvert_exporter": "python",
   "pygments_lexer": "ipython3",
   "version": "3.10.15"
  }
 },
 "nbformat": 4,
 "nbformat_minor": 5
}
